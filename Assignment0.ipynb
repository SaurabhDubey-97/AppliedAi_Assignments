{
  "nbformat": 4,
  "nbformat_minor": 0,
  "metadata": {
    "colab": {
      "name": "Assignment0.ipynb",
      "provenance": [],
      "collapsed_sections": [],
      "toc_visible": true,
      "authorship_tag": "ABX9TyMLESdncMwueFpq0zQZTspk",
      "include_colab_link": true
    },
    "kernelspec": {
      "name": "python3",
      "display_name": "Python 3"
    }
  },
  "cells": [
    {
      "cell_type": "markdown",
      "metadata": {
        "id": "view-in-github",
        "colab_type": "text"
      },
      "source": [
        "<a href=\"https://colab.research.google.com/github/SaurabhDubey-97/AppliedAi_Assignments/blob/main/Assignment0.ipynb\" target=\"_parent\"><img src=\"https://colab.research.google.com/assets/colab-badge.svg\" alt=\"Open In Colab\"/></a>"
      ]
    },
    {
      "cell_type": "markdown",
      "metadata": {
        "id": "SuJbitjqIy9M"
      },
      "source": [
        "## Q1 To print Multiplication Table"
      ]
    },
    {
      "cell_type": "code",
      "metadata": {
        "id": "WdGQa0MDI-Ee",
        "colab": {
          "base_uri": "https://localhost:8080/"
        },
        "outputId": "d16a6eae-6565-4b54-d68a-aee78b965e5e"
      },
      "source": [
        "def multiplicationtable(num):\n",
        "  for i in range (11):\n",
        "    print(\" %d * %d = %d\"% (num, i, (num *i)))\n",
        "num = int(input( \"Please Enter the number for Table : \"))\n",
        "multiplicationtable(num)\n"
      ],
      "execution_count": null,
      "outputs": [
        {
          "output_type": "stream",
          "text": [
            "Please Enter the number for Table : 10\n",
            " 10 * 0 = 0\n",
            " 10 * 1 = 10\n",
            " 10 * 2 = 20\n",
            " 10 * 3 = 30\n",
            " 10 * 4 = 40\n",
            " 10 * 5 = 50\n",
            " 10 * 6 = 60\n",
            " 10 * 7 = 70\n",
            " 10 * 8 = 80\n",
            " 10 * 9 = 90\n",
            " 10 * 10 = 100\n"
          ],
          "name": "stdout"
        }
      ]
    },
    {
      "cell_type": "code",
      "metadata": {
        "id": "hoeuB6UvJA-F"
      },
      "source": [
        ""
      ],
      "execution_count": null,
      "outputs": []
    },
    {
      "cell_type": "markdown",
      "metadata": {
        "id": "zS6Krb7UJKnT"
      },
      "source": [
        "  # Q2 Twin Primes < 1000"
      ]
    },
    {
      "cell_type": "code",
      "metadata": {
        "id": "90lROWsSML24",
        "colab": {
          "base_uri": "https://localhost:8080/"
        },
        "outputId": "d2909d92-5179-44db-9e39-fae573401a81"
      },
      "source": [
        "\n",
        "def isprime(odd):\n",
        "  counter = 0\n",
        "  twinprime = 0\n",
        "  num = odd+2\n",
        "  for i in range(2,odd):\n",
        "    if(odd % i == 0 ): counter += 1\n",
        "  if(counter == 0):\n",
        "    twinprime +=1\n",
        "  for j in range(2,num):\n",
        "    if(num % j == 0 ): counter += 1\n",
        "  if(counter == 0):\n",
        "    twinprime +=1\n",
        "  if(twinprime == 2):\n",
        "    print(\" ( %d, %d )\" %(odd,num), end = ' ')\n",
        "\n",
        "\n",
        "    \n",
        "\n",
        "for i in range(3,1001):\n",
        "  isprime(i)\n",
        "\n",
        "    \n"
      ],
      "execution_count": 1,
      "outputs": [
        {
          "output_type": "stream",
          "text": [
            " ( 3, 5 )  ( 5, 7 )  ( 11, 13 )  ( 17, 19 )  ( 29, 31 )  ( 41, 43 )  ( 59, 61 )  ( 71, 73 )  ( 101, 103 )  ( 107, 109 )  ( 137, 139 )  ( 149, 151 )  ( 179, 181 )  ( 191, 193 )  ( 197, 199 )  ( 227, 229 )  ( 239, 241 )  ( 269, 271 )  ( 281, 283 )  ( 311, 313 )  ( 347, 349 )  ( 419, 421 )  ( 431, 433 )  ( 461, 463 )  ( 521, 523 )  ( 569, 571 )  ( 599, 601 )  ( 617, 619 )  ( 641, 643 )  ( 659, 661 )  ( 809, 811 )  ( 821, 823 )  ( 827, 829 )  ( 857, 859 )  ( 881, 883 ) "
          ],
          "name": "stdout"
        }
      ]
    },
    {
      "cell_type": "markdown",
      "metadata": {
        "id": "ABfSStCMAdXW"
      },
      "source": [
        "#Q3 Prime Factors of a Number"
      ]
    },
    {
      "cell_type": "code",
      "metadata": {
        "id": "VUOu3XcpRivs",
        "colab": {
          "base_uri": "https://localhost:8080/",
          "height": 126
        },
        "outputId": "f44808a2-e99d-48ef-e111-6edd19d3c6ed"
      },
      "source": [
        "def primefactor(number):\n",
        "  for factor in range(2,number+1):\n",
        "   \n",
        "    while (number % factor == 0):\n",
        "      number = number / factor\n",
        "      print(factor) \n",
        "    \n",
        "number = int(input(print( \" Enter the number: \")))\n",
        "primefactor(number)"
      ],
      "execution_count": null,
      "outputs": [
        {
          "output_type": "stream",
          "text": [
            " Enter the number: \n",
            "56\n",
            "2\n",
            "2\n",
            "2\n",
            "7\n"
          ],
          "name": "stdout"
        }
      ]
    },
    {
      "cell_type": "markdown",
      "metadata": {
        "id": "enCm1pjQbI-3"
      },
      "source": [
        "\n",
        "\n",
        "# Q4 Permutation and Combination"
      ]
    },
    {
      "cell_type": "code",
      "metadata": {
        "id": "qG1Jqmg8b5Cw",
        "colab": {
          "base_uri": "https://localhost:8080/",
          "height": 126
        },
        "outputId": "798a3fab-19fd-4755-a0d4-bc08ae5983bf"
      },
      "source": [
        "from functools import reduce\n",
        "def fact(num):\n",
        "  return 1 if num ==1 else (num* fact(num-1))\n",
        "def permut(n,r):\n",
        "  num = fact(n)\n",
        "  den = fact(n-r)\n",
        "  return num/den\n",
        "def combination(n,r):\n",
        "  num = permut(n,r)\n",
        "  den = fact (r)\n",
        "  return num/den\n",
        "\n",
        "n = int(input(print( \" Enter the number: \")))\n",
        "r = int(input(print( \" Enter the number: \")))\n",
        "\n",
        "\n",
        "print(\"permutation of {0} and {1} = {2} \".format(n , r, permut(n,r)))\n",
        "print(\"combination of {0} and {1} = {2} \".format(n , r, combination(n,r)))\n"
      ],
      "execution_count": null,
      "outputs": [
        {
          "output_type": "stream",
          "text": [
            " Enter the number: \n",
            "12\n",
            " Enter the number: \n",
            "4\n",
            "permutation of 12 and 4 = 11880.0 \n",
            "combination of 12 and 4 = 495.0 \n"
          ],
          "name": "stdout"
        }
      ]
    },
    {
      "cell_type": "markdown",
      "metadata": {
        "id": "DN7JtoTJtFFB"
      },
      "source": [
        "# Q5 Decimal to Binary"
      ]
    },
    {
      "cell_type": "code",
      "metadata": {
        "id": "hCIxaw8KtPOk",
        "colab": {
          "base_uri": "https://localhost:8080/",
          "height": 54
        },
        "outputId": "b9db143f-fab0-4551-a060-cb07dcf0f8a2"
      },
      "source": [
        "num = int(input(\"Enter the Decimal Number : \"))\n",
        "dec = []\n",
        "for i in range(num,1,-1):\n",
        "\n",
        "  while(num != 1):\n",
        "    num = int(num / 2)\n",
        "    dec.append(num % 2)\n",
        "print(dec[::-1], end = '')\n",
        "  \n",
        "   \n",
        "\n",
        "    "
      ],
      "execution_count": null,
      "outputs": [
        {
          "output_type": "stream",
          "text": [
            "Enter the Decimal Number : 32\n",
            "[1, 0, 0, 0, 0]"
          ],
          "name": "stdout"
        }
      ]
    },
    {
      "cell_type": "markdown",
      "metadata": {
        "id": "7keCQ0YWOASv"
      },
      "source": [
        "#Q6 Cubesum and Armstrong "
      ]
    },
    {
      "cell_type": "code",
      "metadata": {
        "id": "yuDjt3-0PXS7",
        "colab": {
          "base_uri": "https://localhost:8080/",
          "height": 126
        },
        "outputId": "8caaaab7-8498-41e3-b7a8-240bfebbf522"
      },
      "source": [
        "def cubesum(n):\n",
        "  return 1 if n ==1 else (n**3)\n",
        "def armstrong(num):\n",
        "  ans = 0\n",
        "  while(num > 0):\n",
        "    n = num % 10\n",
        "    num = num // 10\n",
        "    print(\"{0} -> {1} \".format(n,cubesum(n)))\n",
        "    ans = ans + cubesum(n)\n",
        "\n",
        "  print(\"\\n\",isarmstrong(ans))\n",
        "  \n",
        "def isarmstrong(ans):\n",
        "  return ans if (ans == num) else False\n",
        "\n",
        "num = int(input(\"Enter the number: \"))\n",
        "armstrong(num)"
      ],
      "execution_count": null,
      "outputs": [
        {
          "output_type": "stream",
          "text": [
            "Enter the number: 153\n",
            "3 -> 27 \n",
            "5 -> 125 \n",
            "1 -> 1 \n",
            "\n",
            " 153\n"
          ],
          "name": "stdout"
        }
      ]
    },
    {
      "cell_type": "markdown",
      "metadata": {
        "id": "hVj_SknkdcSP"
      },
      "source": [
        "# Q7 ProdDigit"
      ]
    },
    {
      "cell_type": "code",
      "metadata": {
        "id": "fCbh1932dg8f",
        "colab": {
          "base_uri": "https://localhost:8080/",
          "height": 54
        },
        "outputId": "014ad1ff-f672-435d-acc0-553bc92edfae"
      },
      "source": [
        "def prodigit(num):\n",
        "  ans = 1\n",
        "  while(num > 0):\n",
        "    n = num % 10\n",
        "    num = num // 10\n",
        "    ans = ans * n\n",
        "  return ans\n",
        "num = int(input (\"Number : = \"))\n",
        "print(\"Prodogit = {0}\".format(prodigit(num)))\n"
      ],
      "execution_count": null,
      "outputs": [
        {
          "output_type": "stream",
          "text": [
            "Number : = 452\n",
            "Prodogit = 40\n"
          ],
          "name": "stdout"
        }
      ]
    },
    {
      "cell_type": "markdown",
      "metadata": {
        "id": "humdfV_xEVI3"
      },
      "source": [
        "\n",
        "# Q8 MDR and Mpersistance"
      ]
    },
    {
      "cell_type": "code",
      "metadata": {
        "id": "eglAmQ5LFaxs",
        "colab": {
          "base_uri": "https://localhost:8080/",
          "height": 126
        },
        "outputId": "952e1c97-cf33-46a1-f16b-6b4e75f97112"
      },
      "source": [
        "def prodigit(num):\n",
        "  ans = 1\n",
        "  while(num > 0):\n",
        "    n = num % 10\n",
        "    num = num // 10\n",
        "    ans = ans * n\n",
        "  return ans\n",
        "def MDR(num):\n",
        "  n = num\n",
        "  count = 0\n",
        "  while(n > 9):\n",
        "    n = prodigit(n)\n",
        "    count+=1\n",
        "    print(n)\n",
        "  print(\"The MDR is {0}\".format(n))\n",
        "  print(\"The Mpersistance is {0}\".format(mpersistance(count)))\n",
        "def mpersistance(count):\n",
        "  return count\n",
        "   \n",
        "num  = int(input(\"Enter the Number : - \"))\n",
        "MDR(num)\n",
        "\n",
        "\n",
        "  "
      ],
      "execution_count": null,
      "outputs": [
        {
          "output_type": "stream",
          "text": [
            "Enter the Number : - 86\n",
            "48\n",
            "32\n",
            "6\n",
            "The MDR is 6\n",
            "The Mpersistance is 3\n"
          ],
          "name": "stdout"
        }
      ]
    },
    {
      "cell_type": "markdown",
      "metadata": {
        "id": "q0WTyosmx6ET"
      },
      "source": [
        "# Q9 SumPDivisors"
      ]
    },
    {
      "cell_type": "code",
      "metadata": {
        "id": "u03Tt3O4yKSo",
        "colab": {
          "base_uri": "https://localhost:8080/",
          "height": 54
        },
        "outputId": "cb05f8cb-5ced-4b68-e5ce-241c1749f29d"
      },
      "source": [
        "def sumpdivisor(num):\n",
        "  sum = 0\n",
        "  for i in range(2,num+1):\n",
        "    if(num % i == 0):\n",
        "      n = num // i\n",
        "      print(n,end = ' ')\n",
        "      sum += n\n",
        "  return sum\n",
        "  \n",
        "num = int(input(\"Enter the Number\"))\n",
        "print(\"Sum = {0}\".format(sumpdivisor(num)))"
      ],
      "execution_count": null,
      "outputs": [
        {
          "output_type": "stream",
          "text": [
            "Enter the Number265\n",
            "53 5 1 Sum = 59\n"
          ],
          "name": "stdout"
        }
      ]
    },
    {
      "cell_type": "markdown",
      "metadata": {
        "id": "aG94PiIk6-k2"
      },
      "source": [
        "# Q10 Perfect Sum"
      ]
    },
    {
      "cell_type": "code",
      "metadata": {
        "id": "yvMvTEWH7Q5i",
        "colab": {
          "base_uri": "https://localhost:8080/",
          "height": 54
        },
        "outputId": "c2df33cf-67d6-40eb-b7b3-5c0a20b98147"
      },
      "source": [
        "def perfect(num):\n",
        "  sum = 0\n",
        "  for i in range(2,num+1):\n",
        "    if(num % i == 0):\n",
        "      n = num // i\n",
        "      print(n,end = ' ')\n",
        "      sum += n\n",
        "  return sum if (sum == num) else False\n",
        "  \n",
        "num = int(input(\"Enter the Number\"))\n",
        "print(\"Sum = {0}\".format(perfect(num)))"
      ],
      "execution_count": null,
      "outputs": [
        {
          "output_type": "stream",
          "text": [
            "Enter the Number32\n",
            "16 8 4 2 1 Sum = False\n"
          ],
          "name": "stdout"
        }
      ]
    },
    {
      "cell_type": "markdown",
      "metadata": {
        "id": "4WtxOz2T82f6"
      },
      "source": [
        "#Q11  Amicable Number"
      ]
    },
    {
      "cell_type": "code",
      "metadata": {
        "id": "O6Rakg5G87QH",
        "colab": {
          "base_uri": "https://localhost:8080/",
          "height": 199
        },
        "outputId": "609e02d4-a434-4935-9c81-fb65b14eefb4"
      },
      "source": [
        "def sumpdivisor(num):\n",
        "  sum = 0\n",
        "  for i in range(2,num+1):\n",
        "    if(num % i == 0):\n",
        "      n = num // i\n",
        "      #print(n,end = ' ')\n",
        "      sum += n\n",
        "  return sum\n",
        "\n",
        "\n",
        "for i in range(100,10000):\n",
        "  ans1 = sumpdivisor(i)\n",
        "  if i == sumpdivisor(ans1):\n",
        "    if(i!= ans1):\n",
        "      print( i ,\"and\", ans1,\"are amicable number\")\n",
        "\n"
      ],
      "execution_count": null,
      "outputs": [
        {
          "output_type": "stream",
          "text": [
            "220 and 284 are amicable number\n",
            "284 and 220 are amicable number\n",
            "1184 and 1210 are amicable number\n",
            "1210 and 1184 are amicable number\n",
            "2620 and 2924 are amicable number\n",
            "2924 and 2620 are amicable number\n",
            "5020 and 5564 are amicable number\n",
            "5564 and 5020 are amicable number\n",
            "6232 and 6368 are amicable number\n",
            "6368 and 6232 are amicable number\n"
          ],
          "name": "stdout"
        }
      ]
    },
    {
      "cell_type": "markdown",
      "metadata": {
        "id": "6WSTxJDFDHCJ"
      },
      "source": [
        "\n",
        "#Q12 Filter Odd Number "
      ]
    },
    {
      "cell_type": "code",
      "metadata": {
        "id": "FyRRrkwEUv0E",
        "colab": {
          "base_uri": "https://localhost:8080/",
          "height": 35
        },
        "outputId": "d0cdb318-2475-4efb-becb-979e1e916899"
      },
      "source": [
        "def odd(n):\n",
        "  return True if (n%2 != 0) else False\n",
        "\n",
        "lst = [1,2,3,4,5,5,6,7,8,9]\n",
        "num = list(filter(odd,lst))\n",
        "print(num)"
      ],
      "execution_count": null,
      "outputs": [
        {
          "output_type": "stream",
          "text": [
            "[1, 3, 5, 5, 7, 9]\n"
          ],
          "name": "stdout"
        }
      ]
    },
    {
      "cell_type": "markdown",
      "metadata": {
        "id": "CblisyvhWQVd"
      },
      "source": [
        "#Q13 Map Cube Number"
      ]
    },
    {
      "cell_type": "code",
      "metadata": {
        "id": "--tPq9N9WbgP",
        "colab": {
          "base_uri": "https://localhost:8080/",
          "height": 35
        },
        "outputId": "137244ee-9853-423d-f5fc-9c8b2697cc79"
      },
      "source": [
        "def cube(n):\n",
        "  return n**3\n",
        "\n",
        "lst = [2,3,4,5,6,7,8,9]\n",
        "num = list(map(cube,lst))\n",
        "print(num)"
      ],
      "execution_count": null,
      "outputs": [
        {
          "output_type": "stream",
          "text": [
            "[8, 27, 64, 125, 216, 343, 512, 729]\n"
          ],
          "name": "stdout"
        }
      ]
    },
    {
      "cell_type": "markdown",
      "metadata": {
        "id": "3h7c2vEjXaO9"
      },
      "source": [
        "# Q14 map and Filter even *cubes*"
      ]
    },
    {
      "cell_type": "code",
      "metadata": {
        "id": "SeZ55CszXgzZ",
        "colab": {
          "base_uri": "https://localhost:8080/",
          "height": 35
        },
        "outputId": "f819c762-2cd7-4331-874a-49911a5e671a"
      },
      "source": [
        "def cube(n):\n",
        "  return n**3 \n",
        "def even(n):\n",
        "  return True if(n%2 == 0) else False\n",
        "\n",
        "lst = [1,2,3,4,5,6,8,9]\n",
        "even = list(filter(lambda x: x%2==0, lst))\n",
        "num = list(map(lambda x: x**3 ,even))\n",
        "print(num)\n"
      ],
      "execution_count": null,
      "outputs": [
        {
          "output_type": "stream",
          "text": [
            "[8, 64, 216, 512]\n"
          ],
          "name": "stdout"
        }
      ]
    }
  ]
}